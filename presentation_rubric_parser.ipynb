{
 "cells": [
  {
   "cell_type": "code",
   "execution_count": null,
   "metadata": {
    "pycharm": {
     "is_executing": false
    }
   },
   "outputs": [],
   "source": [
    "import pandas as pd\n",
    "import numpy as np\n",
    "import pathlib\n",
    "import itertools"
   ]
  },
  {
   "cell_type": "code",
   "execution_count": null,
   "metadata": {
    "pycharm": {
     "is_executing": false
    }
   },
   "outputs": [],
   "source": [
    "data_folder = pathlib.Path('./data')\n",
    "file_list = list(data_folder.glob('*.xlsx'))\n",
    "question_labels = ['Q1', 'Q2', 'Q3','Q4','Q5']\n",
    "column_names = ['name'] + question_labels \n",
    "\n",
    "# read first file to grab student names\n",
    "file_path = file_list[0]\n",
    "df = pd.read_excel(file_path)\n",
    "df = df.drop(0)\n",
    "df.columns = column_names\n",
    " \n",
    "student_names = list(df['name'])\n",
    "headr = pd.MultiIndex.from_tuples(itertools.product(student_names,question_labels))\n",
    "# construct the combined scores dataframe\n",
    "cols = pd.MultiIndex.from_tuples(headr)\n",
    "df_combined = pd.DataFrame([], student_names, cols)\n",
    "# df"
   ]
  },
  {
   "cell_type": "code",
   "execution_count": null,
   "metadata": {
    "pycharm": {
     "is_executing": false
    }
   },
   "outputs": [],
   "source": [
    "# remembering to drop scores people give to themselves.\n",
    "# @WARNING: df_combined row indices won't be accurate if file and row sorting don't match, \n",
    "#          however finals results will still be accurate\n",
    "for s_name,file_path in zip(student_names, file_list):\n",
    "    print('Reading file from: {}'.format(s_name))\n",
    "    df = pd.read_excel(file_path)\n",
    "    # drop first row, its just explanations\n",
    "    df = df.drop(0)\n",
    "    # some students don't have all the columns for some reason.\n",
    "    if len(df.columns) == 5:\n",
    "        df[\"Q5\"] = np.nan\n",
    "    # print(len(df.columns))    \n",
    "    df.columns = column_names\n",
    "    df = df.set_index('name')\n",
    "    df_combined.loc[s_name] = df.values.flatten()\n",
    "    \n",
    "# df_combined"
   ]
  },
  {
   "cell_type": "code",
   "execution_count": null,
   "metadata": {
    "pycharm": {
     "is_executing": false
    }
   },
   "outputs": [],
   "source": [
    "# calculate scores now\n",
    "# count the number of valid entries for each question\n",
    "valid_count = df_combined.count()\n",
    "# tally up all the scores for questions\n",
    "sums_question = df_combined.sum()\n",
    "# normalize the scores\n",
    "normalized_question_scores = sums_question / valid_count\n",
    "# sum question scores into a single score (out of 5)\n",
    "scores = normalized_question_scores.sum(level=[0])\n",
    "# scores out of 100\n",
    "scores = scores * 20\n",
    "# print the class average\n",
    "print('Class average is: {} out of 100'.format(scores.mean()))"
   ]
  },
  {
   "cell_type": "code",
   "execution_count": null,
   "metadata": {
    "pycharm": {
     "is_executing": false
    }
   },
   "outputs": [],
   "source": [
    "# Export the scores out to a CSV.\n",
    "scores.to_csv(data_folder / '../presentation_scores.csv')"
   ]
  },
  {
   "cell_type": "code",
   "execution_count": null,
   "metadata": {
    "pycharm": {}
   },
   "outputs": [],
   "source": []
  }
 ],
 "metadata": {
  "kernelspec": {
   "display_name": "Python 3",
   "language": "python",
   "name": "python3"
  },
  "language_info": {
   "codemirror_mode": {
    "name": "ipython",
    "version": 3
   },
   "file_extension": ".py",
   "mimetype": "text/x-python",
   "name": "python",
   "nbconvert_exporter": "python",
   "pygments_lexer": "ipython3",
   "version": "3.7.1"
  }
 },
 "nbformat": 4,
 "nbformat_minor": 2
}
